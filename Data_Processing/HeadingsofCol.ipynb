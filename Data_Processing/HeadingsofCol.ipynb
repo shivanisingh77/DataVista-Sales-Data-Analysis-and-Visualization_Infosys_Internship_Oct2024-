{
 "cells": [
  {
   "cell_type": "code",
   "execution_count": 1,
   "id": "e735a75b-a8e6-4db8-8f04-35a21a20fa48",
   "metadata": {},
   "outputs": [],
   "source": [
    "import pandas as pd"
   ]
  },
  {
   "cell_type": "code",
   "execution_count": 10,
   "id": "37bb948e-6774-4a49-80ad-cd12318a1e84",
   "metadata": {},
   "outputs": [],
   "source": [
    "df = pd.read_csv('file.csv')\n",
    "# df = pd.read_excel('file.xlsx')\n",
    "# df = pd.read_json('file.json')"
   ]
  },
  {
   "cell_type": "code",
   "execution_count": 8,
   "id": "d6570542-2bc4-467d-97de-70fb04978548",
   "metadata": {},
   "outputs": [
    {
     "name": "stdout",
     "output_type": "stream",
     "text": [
      "Headings: ['glucose', 'bloodpressure', 'diabetes']\n"
     ]
    }
   ],
   "source": [
    "# Extract the headings (column names)\n",
    "headings = df.columns.tolist()\n",
    "\n",
    "# Print the headings\n",
    "print(\"Headings:\", headings)"
   ]
  },
  {
   "cell_type": "code",
   "execution_count": null,
   "id": "87ac020b-01c8-4e8a-bc9c-9df3e0c816b2",
   "metadata": {},
   "outputs": [],
   "source": []
  }
 ],
 "metadata": {
  "kernelspec": {
   "display_name": "Python 3 (ipykernel)",
   "language": "python",
   "name": "python3"
  },
  "language_info": {
   "codemirror_mode": {
    "name": "ipython",
    "version": 3
   },
   "file_extension": ".py",
   "mimetype": "text/x-python",
   "name": "python",
   "nbconvert_exporter": "python",
   "pygments_lexer": "ipython3",
   "version": "3.12.4"
  }
 },
 "nbformat": 4,
 "nbformat_minor": 5
}
