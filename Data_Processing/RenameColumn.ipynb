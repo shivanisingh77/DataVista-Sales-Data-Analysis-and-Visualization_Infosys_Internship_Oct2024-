{
 "cells": [
  {
   "cell_type": "code",
   "execution_count": 11,
   "id": "46fae4cb-f0fa-4c06-935d-ee3adc805ac4",
   "metadata": {},
   "outputs": [],
   "source": [
    "import pandas as pd"
   ]
  },
  {
   "cell_type": "code",
   "execution_count": 13,
   "id": "70764e58-36c2-4173-bdd5-b33727f5720f",
   "metadata": {},
   "outputs": [],
   "source": [
    "# Sample DataFrame\n",
    "df = pd.DataFrame({\n",
    "    'OldName1': [1, 2, 3],\n",
    "    'OldName2': [4, 5, 6],\n",
    "    'OldName3': [7, 8, 9]\n",
    "})"
   ]
  },
  {
   "cell_type": "code",
   "execution_count": 15,
   "id": "d8d75856-0a54-417a-9af3-89732c800729",
   "metadata": {},
   "outputs": [
    {
     "name": "stdout",
     "output_type": "stream",
     "text": [
      "Original DataFrame:\n",
      "   OldName1  OldName2  OldName3\n",
      "0         1         4         7\n",
      "1         2         5         8\n",
      "2         3         6         9\n"
     ]
    }
   ],
   "source": [
    "# Print original DataFrame\n",
    "print(\"Original DataFrame:\")\n",
    "print(df)"
   ]
  },
  {
   "cell_type": "code",
   "execution_count": 17,
   "id": "443ee7f6-35b2-4a20-9eb2-d136aa87f445",
   "metadata": {},
   "outputs": [],
   "source": [
    "# Rename all columns\n",
    "df.columns = ['NewName1', 'NewName2', 'NewName3']"
   ]
  },
  {
   "cell_type": "code",
   "execution_count": 19,
   "id": "ac09cef7-a068-4c36-9e3e-ad5189eb728b",
   "metadata": {},
   "outputs": [
    {
     "name": "stdout",
     "output_type": "stream",
     "text": [
      "\n",
      "DataFrame after renaming all columns:\n",
      "   NewName1  NewName2  NewName3\n",
      "0         1         4         7\n",
      "1         2         5         8\n",
      "2         3         6         9\n"
     ]
    }
   ],
   "source": [
    "# Print updated DataFrame\n",
    "print(\"\\nDataFrame after renaming all columns:\")\n",
    "print(df)"
   ]
  },
  {
   "cell_type": "code",
   "execution_count": null,
   "id": "ce941d9c-bfba-42f3-a8bf-2a8a7fd37e79",
   "metadata": {},
   "outputs": [],
   "source": []
  }
 ],
 "metadata": {
  "kernelspec": {
   "display_name": "Python 3 (ipykernel)",
   "language": "python",
   "name": "python3"
  },
  "language_info": {
   "codemirror_mode": {
    "name": "ipython",
    "version": 3
   },
   "file_extension": ".py",
   "mimetype": "text/x-python",
   "name": "python",
   "nbconvert_exporter": "python",
   "pygments_lexer": "ipython3",
   "version": "3.12.4"
  }
 },
 "nbformat": 4,
 "nbformat_minor": 5
}
