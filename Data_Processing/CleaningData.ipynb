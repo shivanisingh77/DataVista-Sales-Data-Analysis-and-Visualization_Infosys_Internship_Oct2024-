{
 "cells": [
  {
   "cell_type": "code",
   "execution_count": 69,
   "id": "6887f7b2-d8cc-4f9e-a46e-f3a8de5b221e",
   "metadata": {},
   "outputs": [],
   "source": [
    "import pandas as pd\n",
    "import numpy as np\n",
    "from scipy import stats"
   ]
  },
  {
   "cell_type": "code",
   "execution_count": 71,
   "id": "87a2b42d-1809-4161-b76c-b82fc744c610",
   "metadata": {},
   "outputs": [],
   "source": [
    "# Load data from a CSV file\n",
    "df = pd.read_csv('file.csv')"
   ]
  },
  {
   "cell_type": "code",
   "execution_count": 73,
   "id": "9db094f1-bc96-4a5f-bda6-7d2496fe2822",
   "metadata": {},
   "outputs": [
    {
     "name": "stdout",
     "output_type": "stream",
     "text": [
      "Original DataFrame:\n",
      "    User ID country  Gender   Age   salary  Purchased\n",
      "0  15624510   India    Male  19.0  19000.0          0\n",
      "1  15810944     USA    Male  35.0      NaN          1\n",
      "2  15668575  France  Female  26.0  43000.0          0\n",
      "3  15603246     USA  Female   NaN  57000.0          0\n",
      "4  15804002  France    Male  19.0  76000.0          0\n"
     ]
    }
   ],
   "source": [
    "# Inspect the data\n",
    "print(\"Original DataFrame:\")\n",
    "print(df.head())"
   ]
  },
  {
   "cell_type": "code",
   "execution_count": 75,
   "id": "22ab1bdb-6a8e-4b2f-9bfc-8548a3203654",
   "metadata": {},
   "outputs": [
    {
     "name": "stdout",
     "output_type": "stream",
     "text": [
      "\n",
      "DataFrame Info:\n",
      "<class 'pandas.core.frame.DataFrame'>\n",
      "RangeIndex: 20 entries, 0 to 19\n",
      "Data columns (total 6 columns):\n",
      " #   Column     Non-Null Count  Dtype  \n",
      "---  ------     --------------  -----  \n",
      " 0   User ID    20 non-null     int64  \n",
      " 1   country    19 non-null     object \n",
      " 2   Gender     20 non-null     object \n",
      " 3   Age        17 non-null     float64\n",
      " 4   salary     19 non-null     float64\n",
      " 5   Purchased  20 non-null     int64  \n",
      "dtypes: float64(2), int64(2), object(2)\n",
      "memory usage: 1.1+ KB\n",
      "None\n"
     ]
    }
   ],
   "source": [
    "print(\"\\nDataFrame Info:\")\n",
    "print(df.info())"
   ]
  },
  {
   "cell_type": "code",
   "execution_count": 77,
   "id": "08de41d7-e9ae-4775-ad62-834655c7d44f",
   "metadata": {},
   "outputs": [
    {
     "name": "stdout",
     "output_type": "stream",
     "text": [
      "\n",
      "Statistical Summary:\n",
      "            User ID        Age         salary  Purchased\n",
      "count  2.000000e+01  17.000000      19.000000  20.000000\n",
      "mean   1.567881e+07  29.529412   57368.421053   0.400000\n",
      "std    6.987218e+04   9.348246   33128.052105   0.502625\n",
      "min    1.557077e+07  18.000000   18000.000000   0.000000\n",
      "25%    1.561468e+07  25.000000   28000.000000   0.000000\n",
      "50%    1.569626e+07  27.000000   57000.000000   0.000000\n",
      "75%    1.572768e+07  35.000000   80000.000000   1.000000\n",
      "max    1.581094e+07  47.000000  150000.000000   1.000000\n"
     ]
    }
   ],
   "source": [
    "print(\"\\nStatistical Summary:\")\n",
    "print(df.describe())"
   ]
  },
  {
   "cell_type": "code",
   "execution_count": 79,
   "id": "fefdbda8-7638-422b-9567-4c5a7f9b2bc8",
   "metadata": {},
   "outputs": [
    {
     "name": "stdout",
     "output_type": "stream",
     "text": [
      "\n",
      "Missing Values in Each Column:\n",
      "User ID      0\n",
      "country      1\n",
      "Gender       0\n",
      "Age          3\n",
      "salary       1\n",
      "Purchased    0\n",
      "dtype: int64\n"
     ]
    }
   ],
   "source": [
    "# Handling Missing Values\n",
    "print(\"\\nMissing Values in Each Column:\")\n",
    "print(df.isnull().sum())"
   ]
  },
  {
   "cell_type": "code",
   "execution_count": 81,
   "id": "d8baa1b7-8a44-488f-ba8f-ecfaf97156e1",
   "metadata": {},
   "outputs": [],
   "source": [
    "# Drop rows with any missing values (optional)\n",
    "# df_cleaned = df.dropna()\n",
    "\n",
    "# Fill missing values with a specific value (e.g., 0)\n",
    "df.fillna(value=0, inplace=True)"
   ]
  },
  {
   "cell_type": "code",
   "execution_count": 83,
   "id": "cdc08b89-87a7-4975-87cd-3f8f28859eff",
   "metadata": {},
   "outputs": [
    {
     "name": "stdout",
     "output_type": "stream",
     "text": [
      "\n",
      "Number of Duplicate Rows: 0\n"
     ]
    }
   ],
   "source": [
    "# Fill missing values with the mean of the column for a specific column\n",
    "# df['column_name'].fillna(df['column_name'].mean(), inplace=True)\n",
    "# Removing Duplicates\n",
    "print(\"\\nNumber of Duplicate Rows:\", df.duplicated().sum())\n",
    "df_cleaned = df.drop_duplicates()"
   ]
  },
  {
   "cell_type": "code",
   "execution_count": 87,
   "id": "87ccc627-a2c9-4e6d-b449-73f3eeecdaad",
   "metadata": {},
   "outputs": [],
   "source": [
    "# Changing Data Types\n",
    "# Convert a column to a specific data type (e.g., integer)\n",
    "# df_cleaned['column_name'] = df_cleaned['column_name'].astype(int)\n",
    "\n",
    "# Convert a string column to datetime\n",
    "# df_cleaned['date_column'] = pd.to_datetime(df_cleaned['date_column'])\n",
    "\n",
    "# Renaming Columns\n",
    "df_cleaned.rename(columns={'country': 'Country'}, inplace=True)\n"
   ]
  },
  {
   "cell_type": "code",
   "execution_count": 89,
   "id": "a147ed49-2612-401e-a7bc-ec175f470da6",
   "metadata": {},
   "outputs": [],
   "source": [
    "# Filtering Rows\n",
    "# Filter rows where 'column_name' > threshold_value\n",
    "# df_filtered = df_cleaned[df_cleaned['column_name'] > threshold_value]\n",
    "\n",
    "# Standardizing Text Data\n",
    "# Convert a text column to lowercase\n",
    "df_cleaned['Gender'] = df_cleaned['Gender'].str.lower()\n",
    "# Remove leading and trailing whitespace\n",
    "df_cleaned['Gender'] = df_cleaned['Gender'].str.strip()\n",
    "# Replace specific strings\n",
    "# df_cleaned['text_column'] = df_cleaned['text_column'].str.replace('old_value', 'new_value')"
   ]
  },
  {
   "cell_type": "code",
   "execution_count": 95,
   "id": "dbaa49cb-2a95-4ac3-b66c-24a6dcaf11ee",
   "metadata": {},
   "outputs": [],
   "source": [
    "# Binning Continuous Data\n",
    "# Bin a continuous variable into categories\n",
    "# bins = [0, 50, 100]\n",
    "# labels = ['Low', 'High']\n",
    "# df_cleaned['binned_column'] = pd.cut(df_cleaned['continuous_column'], bins=bins, labels=labels)\n",
    "\n",
    "# Outlier Detection and Removal\n",
    "df_cleaned = df_cleaned[(np.abs(stats.zscore(df_cleaned['Age'])) < 3)]"
   ]
  },
  {
   "cell_type": "code",
   "execution_count": 91,
   "id": "d200aa48-9eaa-422c-8407-cefd3acd9dfc",
   "metadata": {},
   "outputs": [
    {
     "name": "stdout",
     "output_type": "stream",
     "text": [
      "\n",
      "Cleaned DataFrame Info:\n",
      "<class 'pandas.core.frame.DataFrame'>\n",
      "RangeIndex: 20 entries, 0 to 19\n",
      "Data columns (total 6 columns):\n",
      " #   Column     Non-Null Count  Dtype  \n",
      "---  ------     --------------  -----  \n",
      " 0   User ID    20 non-null     int64  \n",
      " 1   Country    20 non-null     object \n",
      " 2   Gender     20 non-null     object \n",
      " 3   Age        20 non-null     float64\n",
      " 4   salary     20 non-null     float64\n",
      " 5   Purchased  20 non-null     int64  \n",
      "dtypes: float64(2), int64(2), object(2)\n",
      "memory usage: 1.1+ KB\n",
      "None\n",
      "\n",
      "Cleaned DataFrame:\n",
      "    User ID Country  Gender   Age   salary  Purchased\n",
      "0  15624510   India    male  19.0  19000.0          0\n",
      "1  15810944     USA    male  35.0      0.0          1\n",
      "2  15668575  France  female  26.0  43000.0          0\n",
      "3  15603246     USA  female   0.0  57000.0          0\n",
      "4  15804002  France    male  19.0  76000.0          0\n"
     ]
    }
   ],
   "source": [
    "# Final Check\n",
    "print(\"\\nCleaned DataFrame Info:\")\n",
    "print(df_cleaned.info())\n",
    "print(\"\\nCleaned DataFrame:\")\n",
    "print(df_cleaned.head())"
   ]
  },
  {
   "cell_type": "code",
   "execution_count": 93,
   "id": "8f80cf9d-001f-4e38-b3d6-0a399e64da28",
   "metadata": {},
   "outputs": [],
   "source": [
    "# Export the cleaned DataFrame to a new CSV file\n",
    "df_cleaned.to_csv('cleaned_data.csv', index=False)"
   ]
  }
 ],
 "metadata": {
  "kernelspec": {
   "display_name": "Python 3 (ipykernel)",
   "language": "python",
   "name": "python3"
  },
  "language_info": {
   "codemirror_mode": {
    "name": "ipython",
    "version": 3
   },
   "file_extension": ".py",
   "mimetype": "text/x-python",
   "name": "python",
   "nbconvert_exporter": "python",
   "pygments_lexer": "ipython3",
   "version": "3.12.4"
  }
 },
 "nbformat": 4,
 "nbformat_minor": 5
}
